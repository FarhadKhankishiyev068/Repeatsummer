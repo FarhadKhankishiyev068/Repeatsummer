{
  "nbformat": 4,
  "nbformat_minor": 0,
  "metadata": {
    "colab": {
      "provenance": []
    },
    "kernelspec": {
      "name": "python3",
      "display_name": "Python 3"
    },
    "language_info": {
      "name": "python"
    }
  },
  "cells": [
    {
      "cell_type": "code",
      "source": [
        "import os\n",
        "\n",
        "# List all files in the /content directory\n",
        "files = os.listdir('/content')\n",
        "print(files)"
      ],
      "metadata": {
        "colab": {
          "base_uri": "https://localhost:8080/"
        },
        "id": "LLju6vOt1n6o",
        "outputId": "00efa5ce-917e-46df-f11a-09fb9ef2348b"
      },
      "execution_count": 2,
      "outputs": [
        {
          "output_type": "stream",
          "name": "stdout",
          "text": [
            "['.config', 'dublin_cleaned.csv', 'nyc_cleaned.csv', '201809-citibike-tripdata.csv', '201811-citibike-tripdata.csv', 'drive', 'dublinbikes_20181001_20190101.csv', '201812-citibike-tripdata.csv', '201810-citibike-tripdata.csv', 'sample_data']\n"
          ]
        }
      ]
    },
    {
      "cell_type": "code",
      "execution_count": 3,
      "metadata": {
        "colab": {
          "base_uri": "https://localhost:8080/"
        },
        "id": "3_oAGqJ-h8j2",
        "outputId": "b8c51c62-83fe-4083-d707-0d0f57338191"
      },
      "outputs": [
        {
          "output_type": "stream",
          "name": "stdout",
          "text": [
            "   Unnamed: 0  Unnamed: 1  STATION ID               start station name  \\\n",
            "0         NaN         NaN       252.0     MacDougal St & Washington Sq   \n",
            "1         NaN         NaN       314.0  Cadman Plaza West & Montague St   \n",
            "2         NaN         NaN      3142.0                  1 Ave & E 62 St   \n",
            "3         NaN         NaN       308.0          St James Pl & Oliver St   \n",
            "4         NaN         NaN       345.0                  W 13 St & 6 Ave   \n",
            "\n",
            "   Unnamed: 4  Unnamed: 5  Unnamed: 6  Unnamed: 7  Unnamed: 8  \\\n",
            "0         NaN         NaN         NaN         NaN         NaN   \n",
            "1         NaN         NaN         NaN         NaN         NaN   \n",
            "2         NaN         NaN         NaN         NaN         NaN   \n",
            "3         NaN         NaN         NaN         NaN         NaN   \n",
            "4         NaN         NaN         NaN         NaN         NaN   \n",
            "\n",
            "   start station id  \n",
            "0               NaN  \n",
            "1               NaN  \n",
            "2               NaN  \n",
            "3               NaN  \n",
            "4               NaN  \n"
          ]
        }
      ],
      "source": [
        "import pandas as pd\n",
        "\n",
        "# List of file paths\n",
        "file_paths = [\n",
        "    '/content/201809-citibike-tripdata.csv',\n",
        "    '/content/201810-citibike-tripdata.csv',\n",
        "    '/content/201811-citibike-tripdata.csv',\n",
        "    '/content/201812-citibike-tripdata.csv'\n",
        "]\n",
        "\n",
        "# Reading each CSV file into a DataFrame and store them in a list\n",
        "dfs = [pd.read_csv(file_path) for file_path in file_paths]\n",
        "\n",
        "# Merging all DataFrames into a single DataFrame\n",
        "merged_ny = pd.concat(dfs, ignore_index=True)\n",
        "\n",
        "# Displaying the first few rows of the merged DataFrame\n",
        "print(merged_ny.head())\n"
      ]
    },
    {
      "cell_type": "code",
      "source": [
        "# File path to the CSV file\n",
        "file_path = '/content/dublinbikes_20181001_20190101.csv'\n",
        "\n",
        "# Reading the CSV file into a pandas DataFrame\n",
        "dub = pd.read_csv(file_path)\n",
        "\n",
        "# Displaying the first few rows of the DataFrame\n",
        "print(dub.head())\n"
      ],
      "metadata": {
        "colab": {
          "base_uri": "https://localhost:8080/"
        },
        "id": "cr9C9VP_0Lwo",
        "outputId": "91e1caa9-55f0-4b23-c9eb-d1b7f8464fc9"
      },
      "execution_count": 4,
      "outputs": [
        {
          "output_type": "stream",
          "name": "stdout",
          "text": [
            "   STATION ID  Unnamed: 1  Unnamed: 2           NAME\n",
            "0           1         NaN         NaN  CLARENDON ROW\n",
            "1           1         NaN         NaN  CLARENDON ROW\n",
            "2           1         NaN         NaN  CLARENDON ROW\n",
            "3           1         NaN         NaN  CLARENDON ROW\n",
            "4           1         NaN         NaN  CLARENDON ROW\n"
          ]
        }
      ]
    },
    {
      "cell_type": "code",
      "source": [
        "# Dropping all unnamed columns\n",
        "dub_cleaned = dub.loc[:, ~dub.columns.str.contains('^Unnamed')]\n",
        "\n",
        "# Displaying the first few rows of the cleaned DataFrame\n",
        "print(dub_cleaned.head())\n"
      ],
      "metadata": {
        "colab": {
          "base_uri": "https://localhost:8080/"
        },
        "id": "0mGMcpbuyjMs",
        "outputId": "b7e94f29-19a7-4587-d8c1-936b9fee0fe4"
      },
      "execution_count": 5,
      "outputs": [
        {
          "output_type": "stream",
          "name": "stdout",
          "text": [
            "   STATION ID           NAME\n",
            "0           1  CLARENDON ROW\n",
            "1           1  CLARENDON ROW\n",
            "2           1  CLARENDON ROW\n",
            "3           1  CLARENDON ROW\n",
            "4           1  CLARENDON ROW\n"
          ]
        }
      ]
    },
    {
      "cell_type": "code",
      "source": [
        "# Droping all unnamed columns\n",
        "ny_cleaned = merged_ny.loc[:, ~merged_ny.columns.str.contains('^Unnamed')]\n",
        "ny_cleaned = ny_cleaned.drop(columns=['start station id'], errors='ignore')\n",
        "ny_cleaned['STATION ID'] = ny_cleaned['STATION ID'].astype('Int64')\n",
        "\n",
        "# Displaying the first few rows of the cleaned DataFrame\n",
        "print(ny_cleaned.head())\n"
      ],
      "metadata": {
        "colab": {
          "base_uri": "https://localhost:8080/"
        },
        "id": "7ruMhKFgzBx7",
        "outputId": "c465080c-1df5-4e1c-f899-62a0c5c3db67"
      },
      "execution_count": 6,
      "outputs": [
        {
          "output_type": "stream",
          "name": "stdout",
          "text": [
            "   STATION ID               start station name\n",
            "0         252     MacDougal St & Washington Sq\n",
            "1         314  Cadman Plaza West & Montague St\n",
            "2        3142                  1 Ave & E 62 St\n",
            "3         308          St James Pl & Oliver St\n",
            "4         345                  W 13 St & 6 Ave\n"
          ]
        }
      ]
    },
    {
      "cell_type": "code",
      "source": [
        "import matplotlib.pyplot as plt\n",
        "import seaborn as sns\n",
        "\n",
        "# Descriptive statistics\n",
        "print(\"Dublin Data Descriptive Statistics:\")\n",
        "print(dub_cleaned.describe())\n",
        "\n",
        "print(\"\\nNY Data Descriptive Statistics:\")\n",
        "print(ny_cleaned.describe())\n"
      ],
      "metadata": {
        "colab": {
          "base_uri": "https://localhost:8080/"
        },
        "id": "tU5C6XvD4fp2",
        "outputId": "a25f9ff0-2fee-4f5b-c3bf-2b534b932f8a"
      },
      "execution_count": 7,
      "outputs": [
        {
          "output_type": "stream",
          "name": "stdout",
          "text": [
            "Dublin Data Descriptive Statistics:\n",
            "         STATION ID\n",
            "count  1.048575e+06\n",
            "mean   5.807455e+01\n",
            "std    3.321291e+01\n",
            "min    1.000000e+00\n",
            "25%    3.000000e+01\n",
            "50%    5.800000e+01\n",
            "75%    8.700000e+01\n",
            "max    1.150000e+02\n",
            "\n",
            "NY Data Descriptive Statistics:\n",
            "        STATION ID\n",
            "count    1048113.0\n",
            "mean   1649.379321\n",
            "std    1455.025266\n",
            "min           72.0\n",
            "25%          382.0\n",
            "50%          514.0\n",
            "75%         3263.0\n",
            "max         3705.0\n"
          ]
        }
      ]
    },
    {
      "cell_type": "code",
      "source": [
        "import matplotlib.pyplot as plt\n",
        "import seaborn as sns\n",
        "\n",
        "# Visualizing the distribution of station IDs in both datasets\n",
        "plt.figure(figsize=(12, 6))\n",
        "sns.histplot(dub_cleaned['STATION ID'], bins=50, kde=True, color='blue', label='Dublin')\n",
        "sns.histplot(ny_cleaned['STATION ID'], bins=50, kde=True, color='orange', label='NYC')\n",
        "plt.title('Distribution of Station IDs')\n",
        "plt.xlabel('Station ID')\n",
        "plt.legend()\n",
        "plt.show()\n"
      ],
      "metadata": {
        "colab": {
          "base_uri": "https://localhost:8080/",
          "height": 554
        },
        "id": "7UfjQY3oBScD",
        "outputId": "05fa4913-4913-4102-8583-7bf2206ffc26"
      },
      "execution_count": 8,
      "outputs": [
        {
          "output_type": "display_data",
          "data": {
            "text/plain": [
              "<Figure size 1200x600 with 1 Axes>"
            ],
            "image/png": "[encoded data removed]"
          },
          "metadata": {}
        }
      ]
    },
    {
      "cell_type": "code",
      "source": [
        "# Checking for missing values in the Dublin dataset\n",
        "print(\"Missing values in Dublin dataset:\")\n",
        "print(dub_cleaned.isnull().sum())\n",
        "\n",
        "# Checking for missing values in the NYC dataset\n",
        "print(\"Missing values in NYC dataset:\")\n",
        "print(ny_cleaned.isnull().sum())\n"
      ],
      "metadata": {
        "colab": {
          "base_uri": "https://localhost:8080/"
        },
        "id": "sLlpS_c8BhoV",
        "outputId": "89b8ceae-b528-4646-f2ea-3a0664d2d80c"
      },
      "execution_count": 9,
      "outputs": [
        {
          "output_type": "stream",
          "name": "stdout",
          "text": [
            "Missing values in Dublin dataset:\n",
            "STATION ID    0\n",
            "NAME          0\n",
            "dtype: int64\n",
            "Missing values in NYC dataset:\n",
            "STATION ID            3114117\n",
            "start station name        769\n",
            "dtype: int64\n"
          ]
        }
      ]
    },
    {
      "cell_type": "code",
      "source": [
        "ny_cleaned = ny_cleaned.dropna(subset=['STATION ID'])\n",
        "dub_cleaned = dub_cleaned.dropna(subset=['STATION ID'])"
      ],
      "metadata": {
        "id": "CFRQ_1pnXb2B"
      },
      "execution_count": 10,
      "outputs": []
    },
    {
      "cell_type": "code",
      "source": [
        "dub_cleaned['STATION ID'] = dub_cleaned['STATION ID'].astype(int)\n",
        "ny_cleaned['STATION ID'] = ny_cleaned['STATION ID'].astype(int)"
      ],
      "metadata": {
        "colab": {
          "base_uri": "https://localhost:8080/"
        },
        "id": "TwmHTHPVcWMe",
        "outputId": "5b937df4-d54d-431f-e1e6-7d0761f92764"
      },
      "execution_count": 11,
      "outputs": [
        {
          "output_type": "stream",
          "name": "stderr",
          "text": [
            "<ipython-input-11-79d23075bd22>:2: SettingWithCopyWarning: \n",
            "A value is trying to be set on a copy of a slice from a DataFrame.\n",
            "Try using .loc[row_indexer,col_indexer] = value instead\n",
            "\n",
            "See the caveats in the documentation: https://pandas.pydata.org/pandas-docs/stable/user_guide/indexing.html#returning-a-view-versus-a-copy\n",
            "  ny_cleaned['STATION ID'] = ny_cleaned['STATION ID'].astype(int)\n"
          ]
        }
      ]
    },
    {
      "cell_type": "code",
      "source": [
        "import scipy.stats as stats\n",
        "\n",
        "# Calculating confidence interval for mean station ID for Dublin\n",
        "mean_dub = dub_cleaned['STATION ID'].mean()\n",
        "sem_dub = stats.sem(dub_cleaned['STATION ID'])\n",
        "ci_dub = stats.t.interval(0.95, len(dub_cleaned['STATION ID'])-1, loc=mean_dub, scale=sem_dub)\n",
        "\n",
        "print(f\"Dublin Station ID 95% Confidence Interval: {ci_dub}\")\n",
        "\n",
        "# Calculating confidence interval for mean station ID for NYC\n",
        "mean_ny = ny_cleaned['STATION ID'].mean()\n",
        "sem_ny = stats.sem(ny_cleaned['STATION ID'])\n",
        "ci_ny = stats.t.interval(0.95, len(ny_cleaned['STATION ID'])-1, loc=mean_ny, scale=sem_ny)\n",
        "\n",
        "print(f\"NYC Station ID 95% Confidence Interval: {ci_ny}\")\n"
      ],
      "metadata": {
        "colab": {
          "base_uri": "https://localhost:8080/"
        },
        "id": "k_fsh606Xty0",
        "outputId": "34c53463-97ef-4ad0-ffe7-02bd11afd3e8"
      },
      "execution_count": 12,
      "outputs": [
        {
          "output_type": "stream",
          "name": "stdout",
          "text": [
            "Dublin Station ID 95% Confidence Interval: (58.01097731224191, 58.13811836522513)\n",
            "NYC Station ID 95% Confidence Interval: (1646.5937443471357, 1652.1648971352233)\n"
          ]
        }
      ]
    },
    {
      "cell_type": "code",
      "source": [
        "# Perform t-test for mean station ID between Dublin and NYC\n",
        "t_stat, p_value = stats.ttest_ind(dub_cleaned['STATION ID'], ny_cleaned['STATION ID'], equal_var=False)\n",
        "\n",
        "print(f\"T-Test for Mean Station ID: T-Statistic = {t_stat}, P-Value = {p_value}\")\n"
      ],
      "metadata": {
        "colab": {
          "base_uri": "https://localhost:8080/"
        },
        "id": "OsmpATCDbQNA",
        "outputId": "2e2f6be5-82f1-4365-ed73-86929b5cdb1b"
      },
      "execution_count": 13,
      "outputs": [
        {
          "output_type": "stream",
          "name": "stdout",
          "text": [
            "T-Test for Mean Station ID: T-Statistic = -1119.3704063118698, P-Value = 0.0\n"
          ]
        }
      ]
    },
    {
      "cell_type": "code",
      "source": [
        "# Performing Wilcoxon test for station ID between Dublin and NYC\n",
        "w_stat, p_value = stats.ranksums(dub_cleaned['STATION ID'], ny_cleaned['STATION ID'])\n",
        "\n",
        "print(f\"Wilcoxon Test for Station ID: W-Statistic = {w_stat}, P-Value = {p_value}\")\n"
      ],
      "metadata": {
        "colab": {
          "base_uri": "https://localhost:8080/"
        },
        "id": "Bm36RN8dcIiL",
        "outputId": "3e63764e-6bed-4c97-8b3e-70538788bdd5"
      },
      "execution_count": 14,
      "outputs": [
        {
          "output_type": "stream",
          "name": "stdout",
          "text": [
            "Wilcoxon Test for Station ID: W-Statistic = -1249.6480761443156, P-Value = 0.0\n"
          ]
        }
      ]
    },
    {
      "cell_type": "code",
      "source": [
        "# Creating a contingency table for station ID counts\n",
        "dublin_station_counts = dub_cleaned['STATION ID'].value_counts()\n",
        "ny_station_counts = ny_cleaned['STATION ID'].value_counts()\n",
        "\n",
        "# Aligning the indices\n",
        "combined_station_counts = pd.concat([dublin_station_counts, ny_station_counts], axis=1).fillna(0)\n",
        "combined_station_counts.columns = ['Dublin', 'NYC']\n",
        "\n",
        "# Performing chi-squared test\n",
        "chi2_stat, p_val, dof, expected = stats.chi2_contingency(combined_station_counts)\n",
        "\n",
        "print(f\"Chi-Squared Test for Station ID Distribution: Chi2 Statistic = {chi2_stat}, P-Value = {p_val}\")\n"
      ],
      "metadata": {
        "colab": {
          "base_uri": "https://localhost:8080/"
        },
        "id": "HvRQaMrRcqg9",
        "outputId": "af63f1b9-3e3d-437a-e101-671cbcb52c16"
      },
      "execution_count": 15,
      "outputs": [
        {
          "output_type": "stream",
          "name": "stdout",
          "text": [
            "Chi-Squared Test for Station ID Distribution: Chi2 Statistic = 2078286.161111374, P-Value = 0.0\n"
          ]
        }
      ]
    },
    {
      "cell_type": "code",
      "source": [
        "# Performing Mann-Whitney U test for station ID between Dublin and NYC\n",
        "u_stat, p_value = stats.mannwhitneyu(dub_cleaned['STATION ID'], ny_cleaned['STATION ID'])\n",
        "\n",
        "print(f\"Mann-Whitney U Test for Station ID: U-Statistic = {u_stat}, P-Value = {p_value}\")\n"
      ],
      "metadata": {
        "colab": {
          "base_uri": "https://localhost:8080/"
        },
        "id": "GHsFipDxcs_U",
        "outputId": "c8c3876f-2bb4-4b9f-d717-dd173ba45574"
      },
      "execution_count": 16,
      "outputs": [
        {
          "output_type": "stream",
          "name": "stdout",
          "text": [
            "Mann-Whitney U Test for Station ID: U-Statistic = 1906902969.0, P-Value = 0.0\n"
          ]
        }
      ]
    },
    {
      "cell_type": "code",
      "source": [
        "import matplotlib.pyplot as plt\n",
        "import seaborn as sns\n",
        "\n",
        "# Combining the datasets for visualization\n",
        "dub_cleaned['City'] = 'Dublin'\n",
        "ny_cleaned['City'] = 'NYC'\n",
        "combined_data = pd.concat([dub_cleaned[['STATION ID', 'City']], ny_cleaned[['STATION ID', 'City']]])\n",
        "\n",
        "# Box plot of station IDs\n",
        "plt.figure(figsize=(12, 6))\n",
        "sns.boxplot(x='City', y='STATION ID', data=combined_data)\n",
        "plt.title('Distribution of Station IDs in Dublin and NYC')\n",
        "plt.xlabel('City')\n",
        "plt.ylabel('Station ID')\n",
        "plt.show()\n"
      ],
      "metadata": {
        "colab": {
          "base_uri": "https://localhost:8080/",
          "height": 563
        },
        "id": "WjC8l0Qmcu_-",
        "outputId": "7869de5f-908e-4be1-dc60-3f64e71f524f"
      },
      "execution_count": 17,
      "outputs": [
        {
          "output_type": "display_data",
          "data": {
            "text/plain": [
              "<Figure size 1200x600 with 1 Axes>"
            ],
            "image/png": "[encoded data removed]"
          },
          "metadata": {}
        }
      ]
    },
    {
      "cell_type": "markdown",
      "source": [
        "ML part"
      ],
      "metadata": {
        "id": "gXo6jipIdsZT"
      }
    },
    {
      "cell_type": "code",
      "source": [
        "!pip install praw\n",
        "!pip install textblob\n"
      ],
      "metadata": {
        "colab": {
          "base_uri": "https://localhost:8080/"
        },
        "id": "IuRS0kuOoTBm",
        "outputId": "c0f5c77d-37cf-4cdb-85fe-2fe9a71194f0"
      },
      "execution_count": 29,
      "outputs": [
        {
          "output_type": "stream",
          "name": "stdout",
          "text": [
            "Collecting praw\n",
            "  Downloading praw-7.7.1-py3-none-any.whl.metadata (9.8 kB)\n",
            "Collecting prawcore<3,>=2.1 (from praw)\n",
            "  Downloading prawcore-2.4.0-py3-none-any.whl.metadata (5.0 kB)\n",
            "Collecting update-checker>=0.18 (from praw)\n",
            "  Downloading update_checker-0.18.0-py3-none-any.whl.metadata (2.3 kB)\n",
            "Requirement already satisfied: websocket-client>=0.54.0 in /usr/local/lib/python3.10/dist-packages (from praw) (1.8.0)\n",
            "Requirement already satisfied: requests<3.0,>=2.6.0 in /usr/local/lib/python3.10/dist-packages (from prawcore<3,>=2.1->praw) (2.31.0)\n",
            "Requirement already satisfied: charset-normalizer<4,>=2 in /usr/local/lib/python3.10/dist-packages (from requests<3.0,>=2.6.0->prawcore<3,>=2.1->praw) (3.3.2)\n",
            "Requirement already satisfied: idna<4,>=2.5 in /usr/local/lib/python3.10/dist-packages (from requests<3.0,>=2.6.0->prawcore<3,>=2.1->praw) (3.7)\n",
            "Requirement already satisfied: urllib3<3,>=1.21.1 in /usr/local/lib/python3.10/dist-packages (from requests<3.0,>=2.6.0->prawcore<3,>=2.1->praw) (2.0.7)\n",
            "Requirement already satisfied: certifi>=2017.4.17 in /usr/local/lib/python3.10/dist-packages (from requests<3.0,>=2.6.0->prawcore<3,>=2.1->praw) (2024.7.4)\n",
            "Downloading praw-7.7.1-py3-none-any.whl (191 kB)\n",
            "\u001b[2K   \u001b[90m━━━━━━━━━━━━━━━━━━━━━━━━━━━━━━━━━━━━━━━━\u001b[0m \u001b[32m191.0/191.0 kB\u001b[0m \u001b[31m4.2 MB/s\u001b[0m eta \u001b[36m0:00:00\u001b[0m\n",
            "\u001b[?25hDownloading prawcore-2.4.0-py3-none-any.whl (17 kB)\n",
            "Downloading update_checker-0.18.0-py3-none-any.whl (7.0 kB)\n",
            "Installing collected packages: update-checker, prawcore, praw\n",
            "Successfully installed praw-7.7.1 prawcore-2.4.0 update-checker-0.18.0\n",
            "Requirement already satisfied: textblob in /usr/local/lib/python3.10/dist-packages (0.17.1)\n",
            "Requirement already satisfied: nltk>=3.1 in /usr/local/lib/python3.10/dist-packages (from textblob) (3.8.1)\n",
            "Requirement already satisfied: click in /usr/local/lib/python3.10/dist-packages (from nltk>=3.1->textblob) (8.1.7)\n",
            "Requirement already satisfied: joblib in /usr/local/lib/python3.10/dist-packages (from nltk>=3.1->textblob) (1.4.2)\n",
            "Requirement already satisfied: regex>=2021.8.3 in /usr/local/lib/python3.10/dist-packages (from nltk>=3.1->textblob) (2024.5.15)\n",
            "Requirement already satisfied: tqdm in /usr/local/lib/python3.10/dist-packages (from nltk>=3.1->textblob) (4.66.4)\n"
          ]
        }
      ]
    },
    {
      "cell_type": "code",
      "source": [
        "import praw\n",
        "\n",
        "#  Reddit API credentials\n",
        "client_id = '***'\n",
        "client_secret = '***'\n",
        "user_agent = '***'\n",
        "\n",
        "# Authentication with the Reddit API\n",
        "reddit = praw.Reddit(client_id=client_id,\n",
        "                     client_secret=client_secret,\n",
        "                     user_agent=user_agent)\n"
      ],
      "metadata": {
        "id": "S6s1POAssVvs"
      },
      "execution_count": 31,
      "outputs": []
    },
    {
      "cell_type": "code",
      "source": [
        "# Defining the subreddit and search query\n",
        "subreddit = reddit.subreddit('dublin')\n",
        "query = 'bicycle OR bike OR cycling'\n",
        "\n",
        "# Searching for posts in the subreddit\n",
        "posts = []\n",
        "for submission in subreddit.search(query, limit=100):\n",
        "    posts.append([submission.created_utc, submission.title, submission.selftext])\n",
        "\n",
        "# Creating a DataFrame\n",
        "df = pd.DataFrame(posts, columns=['Timestamp', 'Title', 'Text'])\n",
        "\n",
        "# Displaying the first few rows of the DataFrame\n",
        "print(df.head())"
      ],
      "metadata": {
        "colab": {
          "base_uri": "https://localhost:8080/"
        },
        "id": "7AwoiUCTvGM0",
        "outputId": "b8493ed3-e4c4-4e37-ecf5-0cab0d2e9816"
      },
      "execution_count": 32,
      "outputs": [
        {
          "output_type": "stream",
          "name": "stderr",
          "text": [
            "WARNING:praw:It appears that you are using PRAW in an asynchronous environment.\n",
            "It is strongly recommended to use Async PRAW: https://asyncpraw.readthedocs.io.\n",
            "See https://praw.readthedocs.io/en/latest/getting_started/multiple_instances.html#discord-bots-and-asynchronous-environments for more info.\n",
            "\n"
          ]
        },
        {
          "output_type": "stream",
          "name": "stdout",
          "text": [
            "      Timestamp                                              Title  \\\n",
            "0  1.715253e+09                               Full bicycle service   \n",
            "1  1.626219e+09  Bicycle stolen from girl in Fairview - please ...   \n",
            "2  1.716926e+09     How to stop being afraid of cycling in Dublin?   \n",
            "3  1.722697e+09            Using bicycle when going for groceries.   \n",
            "4  1.647850e+09                                  Cycling in Dublin   \n",
            "\n",
            "                                                Text  \n",
            "0  Can anyone recommend a reliable place to get a...  \n",
            "1                                                     \n",
            "2  As the title says. I enjoy cycling a lot but w...  \n",
            "3  Hello I am new to Dublin, Ireland. Does anyone...  \n",
            "4  Due to the fuel prices skyrocketing and conven...  \n"
          ]
        }
      ]
    },
    {
      "cell_type": "code",
      "source": [
        "from textblob import TextBlob\n",
        "\n",
        "# Function to get the polarity\n",
        "def get_polarity(text):\n",
        "    return TextBlob(text).sentiment.polarity\n",
        "\n",
        "# Function to get the sentiment\n",
        "def get_sentiment(polarity):\n",
        "    if polarity > 0:\n",
        "        return 'Positive'\n",
        "    elif polarity == 0:\n",
        "        return 'Neutral'\n",
        "    else:\n",
        "        return 'Negative'\n",
        "\n",
        "# Combining the title and text for sentiment analysis\n",
        "df['Content'] = df['Title'] + \" \" + df['Text']\n",
        "\n",
        "# Applying the functions to the DataFrame\n",
        "df['Polarity'] = df['Content'].apply(get_polarity)\n",
        "df['Sentiment'] = df['Polarity'].apply(get_sentiment)\n",
        "\n",
        "# Displaying the DataFrame with Sentiment\n",
        "print(df.head())\n",
        "\n",
        "# Visualizing the results\n",
        "import matplotlib.pyplot as plt\n",
        "import seaborn as sns\n",
        "\n",
        "plt.figure(figsize=(8, 6))\n",
        "sns.countplot(x='Sentiment', data=df)\n",
        "plt.title('Sentiment Analysis on Bicycle Usage in Dublin')\n",
        "plt.show()\n"
      ],
      "metadata": {
        "colab": {
          "base_uri": "https://localhost:8080/",
          "height": 911
        },
        "id": "s5zANa9uvKiW",
        "outputId": "0ddc4dd9-9dda-4933-febb-5e7d96e160ba"
      },
      "execution_count": 33,
      "outputs": [
        {
          "output_type": "stream",
          "name": "stdout",
          "text": [
            "      Timestamp                                              Title  \\\n",
            "0  1.715253e+09                               Full bicycle service   \n",
            "1  1.626219e+09  Bicycle stolen from girl in Fairview - please ...   \n",
            "2  1.716926e+09     How to stop being afraid of cycling in Dublin?   \n",
            "3  1.722697e+09            Using bicycle when going for groceries.   \n",
            "4  1.647850e+09                                  Cycling in Dublin   \n",
            "\n",
            "                                                Text  \\\n",
            "0  Can anyone recommend a reliable place to get a...   \n",
            "1                                                      \n",
            "2  As the title says. I enjoy cycling a lot but w...   \n",
            "3  Hello I am new to Dublin, Ireland. Does anyone...   \n",
            "4  Due to the fuel prices skyrocketing and conven...   \n",
            "\n",
            "                                             Content  Polarity Sentiment  \n",
            "0  Full bicycle service Can anyone recommend a re...  0.132500  Positive  \n",
            "1  Bicycle stolen from girl in Fairview - please ...  0.000000   Neutral  \n",
            "2  How to stop being afraid of cycling in Dublin?... -0.250000  Negative  \n",
            "3  Using bicycle when going for groceries. Hello ...  0.130682  Positive  \n",
            "4  Cycling in Dublin Due to the fuel prices skyro...  0.292619  Positive  \n"
          ]
        },
        {
          "output_type": "display_data",
          "data": {
            "text/plain": [
              "<Figure size 800x600 with 1 Axes>"
            ],
            "image/png": "[encoded data removed]"
          },
          "metadata": {}
        }
      ]
    },
    {
      "cell_type": "code",
      "source": [
        "from sklearn.feature_extraction.text import TfidfVectorizer\n",
        "from sklearn.model_selection import train_test_split\n",
        "from sklearn.linear_model import LogisticRegression\n",
        "from sklearn.metrics import classification_report, accuracy_score\n",
        "\n",
        "\n",
        "\n",
        "# Data Preparation\n",
        "df['Content'] = df['Title'] + \" \" + df['Text']\n",
        "X = df['Content']\n",
        "y = df['Sentiment']\n",
        "\n",
        "# Converting text data into numerical features using TF-IDF\n",
        "tfidf = TfidfVectorizer(max_features=5000)\n",
        "X_tfidf = tfidf.fit_transform(X)\n",
        "\n",
        "# Splitting the data into training and testing sets\n",
        "X_train, X_test, y_train, y_test = train_test_split(X_tfidf, y, test_size=0.2, random_state=42)\n",
        "\n",
        "# Training a Logistic Regression model\n",
        "lr_model = LogisticRegression(max_iter=1000)\n",
        "lr_model.fit(X_train, y_train)\n",
        "\n",
        "# Predicting on the test set\n",
        "y_pred = lr_model.predict(X_test)\n",
        "\n",
        "# Evaluating the model\n",
        "print(\"Classification Report:\")\n",
        "print(classification_report(y_test, y_pred))\n",
        "print(f\"Accuracy: {accuracy_score(y_test, y_pred)}\")"
      ],
      "metadata": {
        "colab": {
          "base_uri": "https://localhost:8080/"
        },
        "id": "0FBVQeAwvz1B",
        "outputId": "6cbbabe3-172f-4c19-d25d-5330037a138c"
      },
      "execution_count": 35,
      "outputs": [
        {
          "output_type": "stream",
          "name": "stdout",
          "text": [
            "Classification Report:\n",
            "              precision    recall  f1-score   support\n",
            "\n",
            "    Negative       0.00      0.00      0.00         1\n",
            "     Neutral       0.00      0.00      0.00         2\n",
            "    Positive       0.85      1.00      0.92        17\n",
            "\n",
            "    accuracy                           0.85        20\n",
            "   macro avg       0.28      0.33      0.31        20\n",
            "weighted avg       0.72      0.85      0.78        20\n",
            "\n",
            "Accuracy: 0.85\n"
          ]
        },
        {
          "output_type": "stream",
          "name": "stderr",
          "text": [
            "/usr/local/lib/python3.10/dist-packages/sklearn/metrics/_classification.py:1471: UndefinedMetricWarning: Precision and F-score are ill-defined and being set to 0.0 in labels with no predicted samples. Use `zero_division` parameter to control this behavior.\n",
            "  _warn_prf(average, modifier, msg_start, len(result))\n",
            "/usr/local/lib/python3.10/dist-packages/sklearn/metrics/_classification.py:1471: UndefinedMetricWarning: Precision and F-score are ill-defined and being set to 0.0 in labels with no predicted samples. Use `zero_division` parameter to control this behavior.\n",
            "  _warn_prf(average, modifier, msg_start, len(result))\n",
            "/usr/local/lib/python3.10/dist-packages/sklearn/metrics/_classification.py:1471: UndefinedMetricWarning: Precision and F-score are ill-defined and being set to 0.0 in labels with no predicted samples. Use `zero_division` parameter to control this behavior.\n",
            "  _warn_prf(average, modifier, msg_start, len(result))\n"
          ]
        }
      ]
    },
    {
      "cell_type": "markdown",
      "source": [],
      "metadata": {
        "id": "kCQP6NTod-Ub"
      }
    },
    {
      "cell_type": "markdown",
      "source": [],
      "metadata": {
        "id": "km83qsfHoFXD"
      }
    }
  ]
}